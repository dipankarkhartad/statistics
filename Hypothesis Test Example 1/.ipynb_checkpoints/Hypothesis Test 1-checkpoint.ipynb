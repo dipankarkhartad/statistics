{
 "cells": [
  {
   "cell_type": "markdown",
   "id": "1384ea36",
   "metadata": {},
   "source": [
    "### Steps for Hypothesis Testing for One-Tailed Test\n",
    "1. Develop null and Alternative hypothesis\n",
    "2. Specify the level of significance\n",
    "3. Collect the sample data and compute the value of the test statistic\n",
    "\n",
    "#### p-Value Approach\n",
    "4. use the value of the test statistic to compute the $p$-value\n",
    "5. Reject $H_{0}$ if $p$-value <= α \n",
    "\n",
    "#### Critical Value Approach\n",
    "4. use the level of significance to determine the critical value and the rejection rule\n",
    "5. Use the value of the test statistic and the rejection rule to determine whether to reject $H_{0}$\n",
    "\n",
    "#### Rejection Rule for Critical Value Approach\n",
    "- Lower Tail: Reject $H_{0}$ if z<=-$z_{a}$\n",
    "- Uper Tail: Reject $H_{0}$ if z>=$z_{a}$"
   ]
  },
  {
   "cell_type": "markdown",
   "id": "483bf235",
   "metadata": {},
   "source": [
    "### Steps for Hypothesis Testing for Two-Tailed Test\n",
    "1. Develop null and Alternative hypothesis\n",
    "2. Specify the level of significance\n",
    "3. Collect the sample data and compute the value of the test statistic z\n",
    "\n",
    "#### p-Value Approach\n",
    "4. If z is in the upper tail (z>0), compute the probability that z is greater than or equals to the value of the test statistic. If z is in the lower tail (z<0) compute the probability that z is less than or equals to the value of the test statistic. \n",
    "5. Double the tail area obtained in the step 4 to obtain the $p$-value\n",
    "6. Reject $H_{0}$ if $p$-value <= α \n",
    "\n",
    "#### Critical Value Approach\n",
    "4. The critical values will occour in both the lower and upper tails of the standard normal curve\n",
    "5. Use standard normal probability distribution able to find $z_{α/2}$ (The z value with an area of α/2 in the upper tail of the distribution)\n",
    "6. Reject $H_{0}$ if z<= $-z_{α/2}$ or z>=$z_{α/2}$\n"
   ]
  },
  {
   "cell_type": "markdown",
   "id": "3d918f76",
   "metadata": {},
   "source": [
    "### Import Libraries"
   ]
  },
  {
   "cell_type": "code",
   "execution_count": 7,
   "id": "86fc10d8",
   "metadata": {},
   "outputs": [],
   "source": [
    "import pandas as pd # Library for datafram"
   ]
  },
  {
   "cell_type": "code",
   "execution_count": 27,
   "id": "f0fbaf3e",
   "metadata": {},
   "outputs": [
    {
     "data": {
      "text/plain": [
       "(40, 2)"
      ]
     },
     "execution_count": 27,
     "metadata": {},
     "output_type": "execute_result"
    }
   ],
   "source": [
    "#Read CSV File\n",
    "df = pd.read_csv('hypothesis_testing.csv')\n",
    "current = df['Current']\n",
    "new = df['New']\n",
    "df.head()"
   ]
  },
  {
   "cell_type": "markdown",
   "id": "7157746e",
   "metadata": {},
   "source": [
    "### 1. Develop null and Alternative hypothesis\n",
    "- Null Hypothesis = $H_{0}$ = Current and New both are equal\n",
    "- Alternative Hypothesis = $H_{a}$ =  Current and New both are NOT equal "
   ]
  },
  {
   "cell_type": "markdown",
   "id": "8642afdf",
   "metadata": {},
   "source": [
    "### 2. Specify the level of significance\n",
    "- α = 5% or α = 0.05"
   ]
  },
  {
   "cell_type": "markdown",
   "id": "fc5361e3",
   "metadata": {},
   "source": [
    "### 3. Compute the value of the test statistic z/t"
   ]
  },
  {
   "cell_type": "markdown",
   "id": "1d63d012",
   "metadata": {},
   "source": [
    "### Z-Test\n",
    "- Find test statistic (ztest) and p value"
   ]
  },
  {
   "cell_type": "code",
   "execution_count": 34,
   "id": "7b2875b8",
   "metadata": {},
   "outputs": [],
   "source": [
    "from statsmodels.stats.weightstats import ztest #Import ztest method"
   ]
  },
  {
   "cell_type": "code",
   "execution_count": 36,
   "id": "d06795a4",
   "metadata": {},
   "outputs": [],
   "source": [
    "ztest, pval = ztest(current, x2=new, alternative='two-sided')"
   ]
  },
  {
   "cell_type": "code",
   "execution_count": 37,
   "id": "90fd0cd5",
   "metadata": {},
   "outputs": [
    {
     "name": "stdout",
     "output_type": "stream",
     "text": [
      "z-statistic:1.3283615935245678 \n",
      "pvalue :0.18405868087594723\n"
     ]
    }
   ],
   "source": [
    "print(f'z-statistic:{ttest} \\npvalue :{pval}')"
   ]
  },
  {
   "cell_type": "markdown",
   "id": "9b7e4aba",
   "metadata": {},
   "source": [
    "### $H_{0}$ Not Rejected\n",
    "- As pval > 0.025 ($z_{α/2}$) and z-statistic < 1.96 (From z-distribution-table 1.96 for 2.5% and 1.68 for 5% significance level)\n",
    "- There is sufficient statistical evidence to infer that current and new both are equal"
   ]
  },
  {
   "cell_type": "markdown",
   "id": "8d24255c",
   "metadata": {},
   "source": [
    "### T-Test\n",
    "- Find test statistic (ttest) and p value"
   ]
  },
  {
   "cell_type": "code",
   "execution_count": 38,
   "id": "212de00a",
   "metadata": {},
   "outputs": [],
   "source": [
    "#Import method to Calculate the T-test for the means of *two independent* samples of scores\n",
    "from scipy.stats import ttest_ind "
   ]
  },
  {
   "cell_type": "code",
   "execution_count": 39,
   "id": "8f1e48d1",
   "metadata": {},
   "outputs": [],
   "source": [
    "ttest, pval = ttest_ind(current, new, alternative='two-sided')"
   ]
  },
  {
   "cell_type": "code",
   "execution_count": 40,
   "id": "1f9332d6",
   "metadata": {},
   "outputs": [
    {
     "name": "stdout",
     "output_type": "stream",
     "text": [
      "t-statistic:1.3283615935245678 \n",
      "pvalue :0.18793228491854663\n"
     ]
    }
   ],
   "source": [
    "print(f't-statistic:{ttest} \\npvalue :{pval}')"
   ]
  },
  {
   "cell_type": "code",
   "execution_count": 42,
   "id": "938e8a4d",
   "metadata": {},
   "outputs": [
    {
     "data": {
      "text/plain": [
       "(40, 2)"
      ]
     },
     "execution_count": 42,
     "metadata": {},
     "output_type": "execute_result"
    }
   ],
   "source": [
    "df.shape \n",
    "#Degree of fredom = n-1 = 40-1 = 39"
   ]
  },
  {
   "cell_type": "markdown",
   "id": "23b57b39",
   "metadata": {},
   "source": [
    "### $H_{0}$ Not Rejected\n",
    "- As pval > 0.025 and t-statistic < 2.024 (From t-distribution-table)\n",
    "- There is sufficient statistical evidence to infer that current and new both are equal"
   ]
  },
  {
   "cell_type": "markdown",
   "id": "68281f37",
   "metadata": {},
   "source": [
    "### T-test  behaves like z-test, as Number of sample are greater than 30 "
   ]
  },
  {
   "cell_type": "markdown",
   "id": "f6c1fc82",
   "metadata": {},
   "source": [
    "- STATISTICAL TABLES\n",
    "- https://home.ubalt.edu/ntsbarsh/business-stat/StatistialTables.pdf"
   ]
  },
  {
   "cell_type": "code",
   "execution_count": null,
   "id": "3b014742",
   "metadata": {},
   "outputs": [],
   "source": []
  }
 ],
 "metadata": {
  "kernelspec": {
   "display_name": "Python 3",
   "language": "python",
   "name": "python3"
  },
  "language_info": {
   "codemirror_mode": {
    "name": "ipython",
    "version": 3
   },
   "file_extension": ".py",
   "mimetype": "text/x-python",
   "name": "python",
   "nbconvert_exporter": "python",
   "pygments_lexer": "ipython3",
   "version": "3.8.8"
  }
 },
 "nbformat": 4,
 "nbformat_minor": 5
}
