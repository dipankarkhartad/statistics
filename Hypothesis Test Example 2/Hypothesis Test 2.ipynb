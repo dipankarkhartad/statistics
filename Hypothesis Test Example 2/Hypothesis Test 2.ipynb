{
 "cells": [
  {
   "cell_type": "markdown",
   "id": "403bcfd2",
   "metadata": {},
   "source": [
    "## Hypothesis Test for amount of sugar in cold and hot cereal"
   ]
  },
  {
   "cell_type": "markdown",
   "id": "7bcdff9d",
   "metadata": {},
   "source": [
    "### Import Libraries"
   ]
  },
  {
   "cell_type": "code",
   "execution_count": 40,
   "id": "8b2c8ea6",
   "metadata": {},
   "outputs": [],
   "source": [
    "import pandas as pd\n",
    "import matplotlib.pyplot as plt\n",
    "import seaborn as sns\n",
    "import warnings\n",
    "warnings.filterwarnings('ignore')"
   ]
  },
  {
   "cell_type": "code",
   "execution_count": 3,
   "id": "f35c6685",
   "metadata": {},
   "outputs": [
    {
     "data": {
      "text/html": [
       "<div>\n",
       "<style scoped>\n",
       "    .dataframe tbody tr th:only-of-type {\n",
       "        vertical-align: middle;\n",
       "    }\n",
       "\n",
       "    .dataframe tbody tr th {\n",
       "        vertical-align: top;\n",
       "    }\n",
       "\n",
       "    .dataframe thead th {\n",
       "        text-align: right;\n",
       "    }\n",
       "</style>\n",
       "<table border=\"1\" class=\"dataframe\">\n",
       "  <thead>\n",
       "    <tr style=\"text-align: right;\">\n",
       "      <th></th>\n",
       "      <th>name</th>\n",
       "      <th>mfr</th>\n",
       "      <th>type</th>\n",
       "      <th>calories</th>\n",
       "      <th>protein</th>\n",
       "      <th>fat</th>\n",
       "      <th>sodium</th>\n",
       "      <th>fiber</th>\n",
       "      <th>carbo</th>\n",
       "      <th>sugars</th>\n",
       "      <th>potass</th>\n",
       "      <th>vitamins</th>\n",
       "      <th>shelf</th>\n",
       "      <th>weight</th>\n",
       "      <th>cups</th>\n",
       "      <th>rating</th>\n",
       "    </tr>\n",
       "  </thead>\n",
       "  <tbody>\n",
       "    <tr>\n",
       "      <th>0</th>\n",
       "      <td>100% Bran</td>\n",
       "      <td>N</td>\n",
       "      <td>C</td>\n",
       "      <td>70</td>\n",
       "      <td>4</td>\n",
       "      <td>1</td>\n",
       "      <td>130</td>\n",
       "      <td>10.0</td>\n",
       "      <td>5.0</td>\n",
       "      <td>6</td>\n",
       "      <td>280</td>\n",
       "      <td>25</td>\n",
       "      <td>3</td>\n",
       "      <td>1.0</td>\n",
       "      <td>0.33</td>\n",
       "      <td>68.402973</td>\n",
       "    </tr>\n",
       "    <tr>\n",
       "      <th>1</th>\n",
       "      <td>100% Natural Bran</td>\n",
       "      <td>Q</td>\n",
       "      <td>C</td>\n",
       "      <td>120</td>\n",
       "      <td>3</td>\n",
       "      <td>5</td>\n",
       "      <td>15</td>\n",
       "      <td>2.0</td>\n",
       "      <td>8.0</td>\n",
       "      <td>8</td>\n",
       "      <td>135</td>\n",
       "      <td>0</td>\n",
       "      <td>3</td>\n",
       "      <td>1.0</td>\n",
       "      <td>1.00</td>\n",
       "      <td>33.983679</td>\n",
       "    </tr>\n",
       "    <tr>\n",
       "      <th>2</th>\n",
       "      <td>All-Bran</td>\n",
       "      <td>K</td>\n",
       "      <td>C</td>\n",
       "      <td>70</td>\n",
       "      <td>4</td>\n",
       "      <td>1</td>\n",
       "      <td>260</td>\n",
       "      <td>9.0</td>\n",
       "      <td>7.0</td>\n",
       "      <td>5</td>\n",
       "      <td>320</td>\n",
       "      <td>25</td>\n",
       "      <td>3</td>\n",
       "      <td>1.0</td>\n",
       "      <td>0.33</td>\n",
       "      <td>59.425505</td>\n",
       "    </tr>\n",
       "    <tr>\n",
       "      <th>3</th>\n",
       "      <td>All-Bran with Extra Fiber</td>\n",
       "      <td>K</td>\n",
       "      <td>C</td>\n",
       "      <td>50</td>\n",
       "      <td>4</td>\n",
       "      <td>0</td>\n",
       "      <td>140</td>\n",
       "      <td>14.0</td>\n",
       "      <td>8.0</td>\n",
       "      <td>0</td>\n",
       "      <td>330</td>\n",
       "      <td>25</td>\n",
       "      <td>3</td>\n",
       "      <td>1.0</td>\n",
       "      <td>0.50</td>\n",
       "      <td>93.704912</td>\n",
       "    </tr>\n",
       "    <tr>\n",
       "      <th>4</th>\n",
       "      <td>Almond Delight</td>\n",
       "      <td>R</td>\n",
       "      <td>C</td>\n",
       "      <td>110</td>\n",
       "      <td>2</td>\n",
       "      <td>2</td>\n",
       "      <td>200</td>\n",
       "      <td>1.0</td>\n",
       "      <td>14.0</td>\n",
       "      <td>8</td>\n",
       "      <td>-1</td>\n",
       "      <td>25</td>\n",
       "      <td>3</td>\n",
       "      <td>1.0</td>\n",
       "      <td>0.75</td>\n",
       "      <td>34.384843</td>\n",
       "    </tr>\n",
       "  </tbody>\n",
       "</table>\n",
       "</div>"
      ],
      "text/plain": [
       "                        name mfr type  calories  protein  fat  sodium  fiber  \\\n",
       "0                  100% Bran   N    C        70        4    1     130   10.0   \n",
       "1          100% Natural Bran   Q    C       120        3    5      15    2.0   \n",
       "2                   All-Bran   K    C        70        4    1     260    9.0   \n",
       "3  All-Bran with Extra Fiber   K    C        50        4    0     140   14.0   \n",
       "4             Almond Delight   R    C       110        2    2     200    1.0   \n",
       "\n",
       "   carbo  sugars  potass  vitamins  shelf  weight  cups     rating  \n",
       "0    5.0       6     280        25      3     1.0  0.33  68.402973  \n",
       "1    8.0       8     135         0      3     1.0  1.00  33.983679  \n",
       "2    7.0       5     320        25      3     1.0  0.33  59.425505  \n",
       "3    8.0       0     330        25      3     1.0  0.50  93.704912  \n",
       "4   14.0       8      -1        25      3     1.0  0.75  34.384843  "
      ]
     },
     "execution_count": 3,
     "metadata": {},
     "output_type": "execute_result"
    }
   ],
   "source": [
    "df = pd.read_csv('cereal.csv')\n",
    "df.head()"
   ]
  },
  {
   "cell_type": "code",
   "execution_count": 4,
   "id": "b362b953",
   "metadata": {},
   "outputs": [
    {
     "data": {
      "text/plain": [
       "(77, 16)"
      ]
     },
     "execution_count": 4,
     "metadata": {},
     "output_type": "execute_result"
    }
   ],
   "source": [
    "df.shape #Shape of dataframe"
   ]
  },
  {
   "cell_type": "code",
   "execution_count": 12,
   "id": "2bfb809e",
   "metadata": {},
   "outputs": [],
   "source": [
    "# Saperate dataframe for cold cereal and hot cereal\n",
    "cold_df = df.loc[df['type']=='C',]\n",
    "hot_df = df.loc[df['type']=='H',]"
   ]
  },
  {
   "cell_type": "markdown",
   "id": "921e982d",
   "metadata": {},
   "source": [
    "### 1. Develop null and Alternative hypothesis\n",
    "- Null Hypothesis = $H_{0}$ = Sugar in hot cereal and cold cereal are equal\n",
    "- Alternative Hypothesis = $H_{a}$ =  Sugar in hot cereal and cold cereal are NOT equal"
   ]
  },
  {
   "cell_type": "markdown",
   "id": "788f6c5e",
   "metadata": {},
   "source": [
    "### 2. Specify the level of significance\n",
    "- α = 5% or α = 0.05"
   ]
  },
  {
   "cell_type": "markdown",
   "id": "f7fc99f7",
   "metadata": {},
   "source": [
    "### 3. Compute the value of the test statistic z/t"
   ]
  },
  {
   "cell_type": "markdown",
   "id": "9da4c188",
   "metadata": {},
   "source": [
    "### Z-Test\n",
    "- Find test statistic (ztest) and p value"
   ]
  },
  {
   "cell_type": "code",
   "execution_count": 14,
   "id": "c098a3bc",
   "metadata": {},
   "outputs": [],
   "source": [
    "#import ztest method\n",
    "from statsmodels.stats.weightstats import ztest "
   ]
  },
  {
   "cell_type": "code",
   "execution_count": 26,
   "id": "be77d7a6",
   "metadata": {},
   "outputs": [],
   "source": [
    "ztest, pval = ztest(cold_df['sugars'], x2=hot_df['sugars'], alternative='two-sided')"
   ]
  },
  {
   "cell_type": "code",
   "execution_count": 27,
   "id": "7cd893af",
   "metadata": {},
   "outputs": [
    {
     "name": "stdout",
     "output_type": "stream",
     "text": [
      "z-statistic:2.5771174568555164 \n",
      "pvalue :0.009962809013847548\n"
     ]
    }
   ],
   "source": [
    "print(f'z-statistic:{ztest} \\npvalue :{pval}')"
   ]
  },
  {
   "cell_type": "markdown",
   "id": "288625ed",
   "metadata": {},
   "source": [
    "### $H_{0}$ is Rejected\n",
    "- As pval < 0.025 ($z_{α/2}$) and z-statistic > 1.96 (From z-distribution-table 1.96 for 2.5% and 1.68 for 5% significance level)\n",
    "- There is sufficient statistical evidence to infer that Sugar in hot cereal and cold cereal are NOT equal"
   ]
  },
  {
   "cell_type": "markdown",
   "id": "2bc714c4",
   "metadata": {},
   "source": [
    "### Check for calories in cold and hot cereal"
   ]
  },
  {
   "cell_type": "code",
   "execution_count": 28,
   "id": "13f6c6c0",
   "metadata": {},
   "outputs": [],
   "source": [
    "from scipy.stats import ttest_ind"
   ]
  },
  {
   "cell_type": "code",
   "execution_count": 30,
   "id": "afe4bb20",
   "metadata": {},
   "outputs": [],
   "source": [
    "ttest, pval = ttest_ind(cold_df['calories'], hot_df['calories'], alternative='two-sided', equal_var=False)"
   ]
  },
  {
   "cell_type": "code",
   "execution_count": 31,
   "id": "51e6b00c",
   "metadata": {},
   "outputs": [
    {
     "name": "stdout",
     "output_type": "stream",
     "text": [
      "t-statistic:3.1070612896033047 \n",
      "pvalue :0.002691710812554955\n"
     ]
    }
   ],
   "source": [
    "print(f't-statistic:{ttest} \\npvalue :{pval}')"
   ]
  },
  {
   "cell_type": "markdown",
   "id": "b461e99c",
   "metadata": {},
   "source": [
    "### $H_{0}$ is Rejected\n",
    "- As pval < 0.025 ($z_{α/2}$) \n",
    "- There is sufficient statistical evidence to infer that Calories in hot cereal and cold cereal are NOT equal"
   ]
  },
  {
   "cell_type": "markdown",
   "id": "9c8a8660",
   "metadata": {},
   "source": [
    "### Visualization"
   ]
  },
  {
   "cell_type": "code",
   "execution_count": 41,
   "id": "0aa77e7e",
   "metadata": {},
   "outputs": [
    {
     "data": {
      "text/plain": [
       "<matplotlib.legend.Legend at 0x24175db9100>"
      ]
     },
     "execution_count": 41,
     "metadata": {},
     "output_type": "execute_result"
    },
    {
     "data": {
      "image/png": "[encoded data removed]",
      "text/plain": [
       "<Figure size 432x288 with 1 Axes>"
      ]
     },
     "metadata": {
      "needs_background": "light"
     },
     "output_type": "display_data"
    }
   ],
   "source": [
    "sns.distplot(cold_df['sugars'], label='Cold')\n",
    "sns.distplot(hot_df['sugars'], label='Hot')\n",
    "plt.legend()"
   ]
  }
 ],
 "metadata": {
  "kernelspec": {
   "display_name": "Python 3",
   "language": "python",
   "name": "python3"
  },
  "language_info": {
   "codemirror_mode": {
    "name": "ipython",
    "version": 3
   },
   "file_extension": ".py",
   "mimetype": "text/x-python",
   "name": "python",
   "nbconvert_exporter": "python",
   "pygments_lexer": "ipython3",
   "version": "3.8.8"
  }
 },
 "nbformat": 4,
 "nbformat_minor": 5
}
