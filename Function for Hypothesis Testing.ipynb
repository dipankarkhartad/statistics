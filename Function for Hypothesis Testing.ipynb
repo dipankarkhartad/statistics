{
 "cells": [
  {
   "cell_type": "markdown",
   "id": "8b1e16ac",
   "metadata": {},
   "source": [
    "## Python Program to automaticaly do the Hypothesis Testing"
   ]
  },
  {
   "cell_type": "markdown",
   "id": "78abd81a",
   "metadata": {},
   "source": [
    "\n",
    "def hyp_test(sample_mean, population_mean, sample_size, st_dev, flag_tail = one/two tail):\n",
    "\n",
    "\talphs_dict = {'0.05' : 1.68, '0.025' : 1.96}\n",
    "\t-------------------------------\n",
    "\tUser based execution\n",
    "\t-------------------------------\n",
    "\tt-test/ztest (Auto decision)\n",
    "\tdefine alpha vals in the dictionary\n",
    "\tpoint estimates\n",
    "\tinterval estimate\n",
    "\t---------------------------------\n",
    "\n",
    "\tretrun\n",
    "\n",
    "output : \n",
    "\n",
    "Null Hypothesis Rejected/Accepted\n",
    "Zstats, equi Zalpha\n",
    "Interval estimates\n",
    "Point estimates\n",
    "Distribution\n"
   ]
  },
  {
   "cell_type": "code",
   "execution_count": 1,
   "id": "e0f5dc79",
   "metadata": {},
   "outputs": [],
   "source": [
    "# The function accepts following arguments\n",
    "#1. sample_mean\n",
    "#2. population_mean\n",
    "#3. sample_size\n",
    "#4. st_dev\n",
    "#5. flag_tail\n",
    "\n",
    "#Returs: \n",
    "# Null Hypothesis Rejected/Accepted\n",
    "# Zstats, equi Zalpha\n",
    "# Interval estimates\n",
    "# Point estimates\n",
    "# Distribution\n",
    "\n",
    "def hyp_test(sample_mean, population_mean, sample_size, st_dev, flag_tail): \n",
    "    z_alpha_dict = {0.05: 1.68, 0.025:1.96}\n",
    "    t_alpha_dict = {15:{0.05:1.753, 0.025:2.131}, 16:{0.05:1.764, 0.025:2.120},17:{0.05:1.74, 0.025:2.11},18:{0.05:1.734, 0.025:2.101}}\n",
    "    if flag_tail == 'two':\n",
    "        alpha = 0.025 \n",
    "    else:\n",
    "        alpha = 0.05 \n",
    "    if sample_size >= 30:\n",
    "        test = 'Z'\n",
    "        significant_lvl = z_alpha_dict.get(alpha)\n",
    "    else:\n",
    "        test = 'T'\n",
    "        significant_lvl = t_alpha_dict.get(sample_size-1).get(alpha)\n",
    "        \n",
    "    moe = significant_lvl*(st_dev/sample_size**0.5) #Margin of Error Calculation\n",
    "    z_state = (sample_mean-population_mean)/(st_dev/sample_size**0.5) #Z_states calculation\n",
    "    \n",
    "    print('Select your choice:\\n1. Hypothesis Test\\n2. Z-States and Z-alpha\\n3. Point Estimate\\n4.Interval estimate')\n",
    "    choice = eval(input('Choice:'))\n",
    "    if choice == 1:\n",
    "        return f\"Null Hypothesis is {'Accepted' if z_state<significant_lvl else 'Rejected'}\"\n",
    "    elif choice == 2:\n",
    "        return f'Z-states: {z_state} and z_alpha: {significant_lvl}'\n",
    "    elif choice == 3:\n",
    "        return f'Point Estimate: {sample_mean}'\n",
    "    elif choice == 4:\n",
    "        return f'Interval estimate is from {sample_mean-moe} to {sample_mean+moe}'\n"
   ]
  },
  {
   "cell_type": "code",
   "execution_count": 2,
   "id": "7c0fbaf0",
   "metadata": {},
   "outputs": [
    {
     "name": "stdout",
     "output_type": "stream",
     "text": [
      "Select your choice:\n",
      "1. Hypothesis Test\n",
      "2. Z-States and Z-alpha\n",
      "3. Point Estimate\n",
      "4.Interval estimate\n",
      "Choice:1\n"
     ]
    },
    {
     "data": {
      "text/plain": [
       "'Null Hypothesis is Rejected'"
      ]
     },
     "execution_count": 2,
     "metadata": {},
     "output_type": "execute_result"
    }
   ],
   "source": [
    "hyp_test(66.2, 65, 64, 4.2, flag_tail='one')"
   ]
  },
  {
   "cell_type": "code",
   "execution_count": 3,
   "id": "ddb2f71f",
   "metadata": {},
   "outputs": [
    {
     "name": "stdout",
     "output_type": "stream",
     "text": [
      "Select your choice:\n",
      "1. Hypothesis Test\n",
      "2. Z-States and Z-alpha\n",
      "3. Point Estimate\n",
      "4.Interval estimate\n",
      "Choice:2\n"
     ]
    },
    {
     "data": {
      "text/plain": [
       "'Z-states: 2.4705294220065466 and z_alpha: 1.68'"
      ]
     },
     "execution_count": 3,
     "metadata": {},
     "output_type": "execute_result"
    }
   ],
   "source": [
    "hyp_test(13.25, 12, 40, 3.2, flag_tail='one')"
   ]
  },
  {
   "cell_type": "code",
   "execution_count": 4,
   "id": "5884ba9b",
   "metadata": {},
   "outputs": [
    {
     "name": "stdout",
     "output_type": "stream",
     "text": [
      "Select your choice:\n",
      "1. Hypothesis Test\n",
      "2. Z-States and Z-alpha\n",
      "3. Point Estimate\n",
      "4.Interval estimate\n",
      "Choice:3\n"
     ]
    },
    {
     "data": {
      "text/plain": [
       "'Point Estimate: 6.1'"
      ]
     },
     "execution_count": 4,
     "metadata": {},
     "output_type": "execute_result"
    }
   ],
   "source": [
    "hyp_test(6.1, 6, 30, 0.2, flag_tail='two')"
   ]
  },
  {
   "cell_type": "code",
   "execution_count": 5,
   "id": "626bd49c",
   "metadata": {},
   "outputs": [
    {
     "name": "stdout",
     "output_type": "stream",
     "text": [
      "Select your choice:\n",
      "1. Hypothesis Test\n",
      "2. Z-States and Z-alpha\n",
      "3. Point Estimate\n",
      "4.Interval estimate\n",
      "Choice:4\n"
     ]
    },
    {
     "data": {
      "text/plain": [
       "'Interval estimate is from 65.318 to 67.08200000000001'"
      ]
     },
     "execution_count": 5,
     "metadata": {},
     "output_type": "execute_result"
    }
   ],
   "source": [
    "hyp_test(66.2, 65, 64, 4.2, flag_tail='one')"
   ]
  },
  {
   "cell_type": "code",
   "execution_count": null,
   "id": "f34a425f",
   "metadata": {},
   "outputs": [],
   "source": []
  }
 ],
 "metadata": {
  "kernelspec": {
   "display_name": "Python 3",
   "language": "python",
   "name": "python3"
  },
  "language_info": {
   "codemirror_mode": {
    "name": "ipython",
    "version": 3
   },
   "file_extension": ".py",
   "mimetype": "text/x-python",
   "name": "python",
   "nbconvert_exporter": "python",
   "pygments_lexer": "ipython3",
   "version": "3.8.8"
  }
 },
 "nbformat": 4,
 "nbformat_minor": 5
}
