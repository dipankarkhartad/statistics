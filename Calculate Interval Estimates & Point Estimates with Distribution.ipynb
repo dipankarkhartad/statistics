{
 "cells": [
  {
   "cell_type": "markdown",
   "id": "8fc94985",
   "metadata": {},
   "source": [
    "## Problem Statement\n",
    "\n",
    "The function will calculate the Interval Estimates & Point Estimates.\n",
    "\n",
    "def estimate_calc(sample_mean, sample_size, StdDev):\n",
    "\t\n",
    "\t-------------------------------\n",
    "\t-------------------------------\n",
    "\tdefine a dictionary for alpha values (z/t)\n",
    "\tAutomaticall decide for the Z or T dist\n",
    "\tAsk user to calc - 1. Point Est 2. Interval 3. Both\n",
    "\t-------------------------------\n",
    "\t-------------------------------\n",
    "\treturn\n",
    "\n",
    "output -> Data follows the Z-Distribution\n",
    "\t\tPoint Estimate - 66.66\n",
    "\t\tInterval Estimate - 44.44 to 66.66"
   ]
  },
  {
   "cell_type": "code",
   "execution_count": 1,
   "id": "f593e147",
   "metadata": {},
   "outputs": [],
   "source": [
    "def estimate_calc(sample_mean, sample_size, StdDev):\n",
    "    z_alpha_dict = {0.05: 1.68, 0.025:1.96}\n",
    "    t_alpha_dict = {15:{0.05:1.753, 0.025:2.131}, 16:{0.05:1.764, 0.025:2.120},17:{0.05:1.74, 0.025:2.11},18:{0.05:1.734, 0.025:2.101}}\n",
    "    if sample_size >= 30:\n",
    "        distr = 'Z'\n",
    "        significant_lvl = (z_alpha_dict.get(0.025))\n",
    "    else:\n",
    "        distr = 'T'\n",
    "        significant_lvl = t_alpha_dict.get(sample_size-1).get(0.025)\n",
    "    moe = significant_lvl*(StdDev/sample_size**0.5) #Margin of Error Calculation\n",
    "    print('Select your choice:\\n1.Point Estimate\\n2.Interval estimate\\n3.Both')\n",
    "    choice = eval(input('Choice:'))\n",
    "    if choice == 1:\n",
    "        return f\"Data follows {distr} distribution, Point Estimate : {sample_mean}\"\n",
    "    elif choice == 2:\n",
    "        return f'Data follows {distr} distribution, Interval Estimate: {sample_mean-moe} to {sample_mean+moe}'\n",
    "    else: \n",
    "        return f'Data follows {distr} distribution, Point Estimate : {sample_mean} and Interval Estimate: {sample_mean-moe} to {sample_mean+moe}'"
   ]
  },
  {
   "cell_type": "code",
   "execution_count": 2,
   "id": "bc9826bb",
   "metadata": {},
   "outputs": [
    {
     "name": "stdout",
     "output_type": "stream",
     "text": [
      "Select your choice:\n",
      "1.Point Estimate\n",
      "2.Interval estimate\n",
      "3.Both\n",
      "Choice:3\n"
     ]
    },
    {
     "data": {
      "text/plain": [
       "'Data follows T distribution, Point Estimate : 750 and Interval Estimate: 720.69875 to 779.30125'"
      ]
     },
     "execution_count": 2,
     "metadata": {},
     "output_type": "execute_result"
    }
   ],
   "source": [
    "estimate_calc(750, 16, 55)"
   ]
  },
  {
   "cell_type": "code",
   "execution_count": null,
   "id": "f10dcdf8",
   "metadata": {},
   "outputs": [],
   "source": []
  }
 ],
 "metadata": {
  "kernelspec": {
   "display_name": "Python 3",
   "language": "python",
   "name": "python3"
  },
  "language_info": {
   "codemirror_mode": {
    "name": "ipython",
    "version": 3
   },
   "file_extension": ".py",
   "mimetype": "text/x-python",
   "name": "python",
   "nbconvert_exporter": "python",
   "pygments_lexer": "ipython3",
   "version": "3.8.8"
  }
 },
 "nbformat": 4,
 "nbformat_minor": 5
}
