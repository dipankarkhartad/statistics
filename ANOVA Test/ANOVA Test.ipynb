{
 "cells": [
  {
   "cell_type": "markdown",
   "id": "4901b49b",
   "metadata": {},
   "source": [
    "## ANOVA TEST"
   ]
  },
  {
   "cell_type": "markdown",
   "id": "65ad7573",
   "metadata": {},
   "source": [
    "### Hypothesis of ANOVA\n",
    "- $H_{0}$: µ1 = µ2 = µ3 = .... = µc\n",
    "-- All Population means are equal\n",
    "-- No Treatement effect (No Variations amongst groups)\n",
    "- $H_{1}$: Not all the population means are the same\n",
    "-- At least one population mean is different"
   ]
  },
  {
   "cell_type": "code",
   "execution_count": 27,
   "id": "fa334f57",
   "metadata": {},
   "outputs": [],
   "source": [
    "# Import libraries\n",
    "import pandas as pd\n",
    "import warnings\n",
    "warnings.filterwarnings('ignore')\n",
    "import matplotlib.pyplot as plt\n",
    "import seaborn as sns"
   ]
  },
  {
   "cell_type": "code",
   "execution_count": 3,
   "id": "233ff9c5",
   "metadata": {},
   "outputs": [],
   "source": [
    "df_plant = pd.read_csv('PlantGrowth.csv')"
   ]
  },
  {
   "cell_type": "code",
   "execution_count": 4,
   "id": "39eab2a2",
   "metadata": {},
   "outputs": [
    {
     "data": {
      "text/html": [
       "<div>\n",
       "<style scoped>\n",
       "    .dataframe tbody tr th:only-of-type {\n",
       "        vertical-align: middle;\n",
       "    }\n",
       "\n",
       "    .dataframe tbody tr th {\n",
       "        vertical-align: top;\n",
       "    }\n",
       "\n",
       "    .dataframe thead th {\n",
       "        text-align: right;\n",
       "    }\n",
       "</style>\n",
       "<table border=\"1\" class=\"dataframe\">\n",
       "  <thead>\n",
       "    <tr style=\"text-align: right;\">\n",
       "      <th></th>\n",
       "      <th>Unnamed: 0</th>\n",
       "      <th>weight</th>\n",
       "      <th>group</th>\n",
       "    </tr>\n",
       "  </thead>\n",
       "  <tbody>\n",
       "    <tr>\n",
       "      <th>0</th>\n",
       "      <td>1</td>\n",
       "      <td>4.17</td>\n",
       "      <td>ctrl</td>\n",
       "    </tr>\n",
       "    <tr>\n",
       "      <th>1</th>\n",
       "      <td>2</td>\n",
       "      <td>5.58</td>\n",
       "      <td>ctrl</td>\n",
       "    </tr>\n",
       "    <tr>\n",
       "      <th>2</th>\n",
       "      <td>3</td>\n",
       "      <td>5.18</td>\n",
       "      <td>ctrl</td>\n",
       "    </tr>\n",
       "    <tr>\n",
       "      <th>3</th>\n",
       "      <td>4</td>\n",
       "      <td>6.11</td>\n",
       "      <td>ctrl</td>\n",
       "    </tr>\n",
       "    <tr>\n",
       "      <th>4</th>\n",
       "      <td>5</td>\n",
       "      <td>4.50</td>\n",
       "      <td>ctrl</td>\n",
       "    </tr>\n",
       "  </tbody>\n",
       "</table>\n",
       "</div>"
      ],
      "text/plain": [
       "   Unnamed: 0  weight group\n",
       "0           1    4.17  ctrl\n",
       "1           2    5.58  ctrl\n",
       "2           3    5.18  ctrl\n",
       "3           4    6.11  ctrl\n",
       "4           5    4.50  ctrl"
      ]
     },
     "execution_count": 4,
     "metadata": {},
     "output_type": "execute_result"
    }
   ],
   "source": [
    "df_plant.head()"
   ]
  },
  {
   "cell_type": "code",
   "execution_count": 8,
   "id": "285023b1",
   "metadata": {},
   "outputs": [
    {
     "data": {
      "text/plain": [
       "array(['ctrl', 'trt1', 'trt2'], dtype=object)"
      ]
     },
     "execution_count": 8,
     "metadata": {},
     "output_type": "execute_result"
    }
   ],
   "source": [
    "#There are 3 plant group 'ctrl', 'trt1', 'trt2'\n",
    "df_plant['group'].unique()"
   ]
  },
  {
   "cell_type": "markdown",
   "id": "254fe6fb",
   "metadata": {},
   "source": [
    "### Hypothesis of ANOVA for Plant Growth\n",
    "- $H_{0}$: µ1 = µ2 = µ3 (Population mean of weight amongst different plant group are same)\n",
    "- $H_{1}$: Not all the population means of weight are the same"
   ]
  },
  {
   "cell_type": "code",
   "execution_count": 10,
   "id": "b56bae34",
   "metadata": {},
   "outputs": [],
   "source": [
    "import statsmodels.api as sm #To use anova_lm() method\n",
    "from statsmodels.formula.api import ols # ols method to create target(weight) and predictor(group) variable"
   ]
  },
  {
   "cell_type": "code",
   "execution_count": 13,
   "id": "93dd3c43",
   "metadata": {},
   "outputs": [],
   "source": [
    "mod = ols('weight ~ group', data=df_plant).fit() #Create a Model from a formula and dataframe."
   ]
  },
  {
   "cell_type": "code",
   "execution_count": 15,
   "id": "d406ecfa",
   "metadata": {},
   "outputs": [],
   "source": [
    "anova_table  = sm.stats.anova_lm(mod, typ=2)"
   ]
  },
  {
   "cell_type": "code",
   "execution_count": 16,
   "id": "12a1165f",
   "metadata": {},
   "outputs": [
    {
     "name": "stdout",
     "output_type": "stream",
     "text": [
      "            sum_sq    df         F   PR(>F)\n",
      "group      3.76634   2.0  4.846088  0.01591\n",
      "Residual  10.49209  27.0       NaN      NaN\n"
     ]
    }
   ],
   "source": [
    "print(anova_table)"
   ]
  },
  {
   "cell_type": "markdown",
   "id": "d3afb772",
   "metadata": {},
   "source": [
    "### Insight from ANOVA Table"
   ]
  },
  {
   "cell_type": "markdown",
   "id": "612e2df3",
   "metadata": {},
   "source": [
    "- F-statistic value (4.846088) is far away from 1\n",
    "-- All plant group variance are not equal, all group of plant need different treatement\n",
    "- p-value is less than α (p<0.05)\n",
    "-- $H_{0}$ Null hypothesis is rejected"
   ]
  },
  {
   "cell_type": "markdown",
   "id": "9eae4c66",
   "metadata": {},
   "source": [
    "### Visualization"
   ]
  },
  {
   "cell_type": "code",
   "execution_count": 33,
   "id": "0a53a50c",
   "metadata": {},
   "outputs": [
    {
     "data": {
      "image/png": "[encoded data removed]",
      "text/plain": [
       "<Figure size 720x432 with 1 Axes>"
      ]
     },
     "metadata": {
      "needs_background": "light"
     },
     "output_type": "display_data"
    }
   ],
   "source": [
    "plt.figure(figsize=(10,6))\n",
    "sns.boxplot(x='group', y='weight', data=df_plant)\n",
    "plt.title('Box Plot for Different Plant Groups')\n",
    "plt.show()"
   ]
  },
  {
   "cell_type": "code",
   "execution_count": null,
   "id": "647622d1",
   "metadata": {},
   "outputs": [],
   "source": []
  }
 ],
 "metadata": {
  "kernelspec": {
   "display_name": "Python 3",
   "language": "python",
   "name": "python3"
  },
  "language_info": {
   "codemirror_mode": {
    "name": "ipython",
    "version": 3
   },
   "file_extension": ".py",
   "mimetype": "text/x-python",
   "name": "python",
   "nbconvert_exporter": "python",
   "pygments_lexer": "ipython3",
   "version": "3.8.8"
  }
 },
 "nbformat": 4,
 "nbformat_minor": 5
}
